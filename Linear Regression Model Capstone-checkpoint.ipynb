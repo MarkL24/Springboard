{
 "cells": [
  {
   "cell_type": "markdown",
   "id": "b1841178",
   "metadata": {},
   "source": [
    "Introductory Summary: Creation of multiple Machine Learning models\n",
    "\n",
    "1. Creation of a dummy regressor to compare the eventual Linear Regression and Random Forest models with the mean\n",
    "2. Creation of linear model(LR) and relevant performance metrics\n",
    "3. Creation of Statmodel's OLS method for LR\n",
    "4. Instantiation of pipeline, cross validation, and gridsearchCV to optimize the LR model\n",
    "5. Creation of the Random Forest model\n",
    "6. Overall Analysis\n",
    "\n"
   ]
  },
  {
   "cell_type": "code",
   "execution_count": null,
   "id": "662dc24b",
   "metadata": {},
   "outputs": [],
   "source": []
  },
  {
   "cell_type": "code",
   "execution_count": null,
   "id": "0fda5600",
   "metadata": {},
   "outputs": [],
   "source": []
  },
  {
   "cell_type": "code",
   "execution_count": 1,
   "id": "cb25c0b8",
   "metadata": {},
   "outputs": [],
   "source": [
    "#Importing the necessary libraries"
   ]
  },
  {
   "cell_type": "code",
   "execution_count": 2,
   "id": "42ec22b4",
   "metadata": {},
   "outputs": [],
   "source": [
    "import pandas as pd\n",
    "import numpy as np\n",
    "import matplotlib.pyplot as plt\n",
    "import seaborn as sns\n",
    "import os\n",
    "from sklearn.preprocessing import StandardScaler\n",
    "from sklearn.linear_model import LinearRegression\n",
    "import statsmodels.api as sm \n",
    "from statsmodels.graphics.api import abline_plot \n",
    "from sklearn.metrics import mean_squared_error, r2_score, mean_absolute_error\n",
    "from sklearn.model_selection import train_test_split\n",
    "from sklearn import linear_model, preprocessing \n",
    "from sklearn.dummy import DummyRegressor\n",
    "from sklearn.pipeline import make_pipeline\n",
    "from sklearn.impute import SimpleImputer\n",
    "from sklearn.feature_selection import SelectKBest, f_regression\n",
    "from sklearn import __version__ as sklearn_version\n",
    "from sklearn.ensemble import RandomForestRegressor\n",
    "from sklearn.decomposition import PCA\n",
    "from sklearn.preprocessing import scale\n",
    "from sklearn.model_selection import train_test_split, cross_validate, GridSearchCV, learning_curve\n",
    "import datetime\n",
    "import warnings \n",
    "warnings.simplefilter(action=\"ignore\", category=FutureWarning)\n",
    "warnings.filterwarnings(action=\"ignore\", module=\"scipy\", message=\"^internal gelsd\")\n",
    "pd.set_option('display.max_columns', None)"
   ]
  },
  {
   "cell_type": "code",
   "execution_count": 3,
   "id": "0d611b27",
   "metadata": {},
   "outputs": [
    {
     "data": {
      "text/plain": [
       "'C:\\\\Users\\\\Mark Lee\\\\Documents\\\\GitHub\\\\Datasets\\\\Airbnb Prices Europe\\\\CSV'"
      ]
     },
     "execution_count": 3,
     "metadata": {},
     "output_type": "execute_result"
    }
   ],
   "source": [
    "os.getcwd()"
   ]
  },
  {
   "cell_type": "code",
   "execution_count": 4,
   "id": "46ba7042",
   "metadata": {},
   "outputs": [],
   "source": [
    "x_train = pd.read_csv('x_train.csv', index_col=0)\n",
    "x_test = pd.read_csv('x_test.csv', index_col=0)\n",
    "y_train = pd.read_csv('y_train.csv', index_col=0)\n",
    "y_test = pd.read_csv('y_test.csv', index_col=0)"
   ]
  },
  {
   "cell_type": "markdown",
   "id": "23aa03f3",
   "metadata": {},
   "source": [
    "<font size=\"4\">\n",
    "\n",
    "Because I've only imported unscaled/unnormalized dataframes from the previous capstone, I am performing StandardScaler on the dataframes again for the below steps\n",
    "\n"
   ]
  },
  {
   "cell_type": "code",
   "execution_count": 5,
   "id": "74fa13db",
   "metadata": {},
   "outputs": [],
   "source": [
    "#Initializing and performing StandardScaler on the appropriate dataframes/datapoints\n",
    "scaler = StandardScaler()\n",
    "x_train_scaled = scaler.fit_transform(x_train)"
   ]
  },
  {
   "cell_type": "code",
   "execution_count": 6,
   "id": "56e8cb3d",
   "metadata": {},
   "outputs": [],
   "source": [
    "x_test_scaled = scaler.transform(x_test)"
   ]
  },
  {
   "cell_type": "markdown",
   "id": "b969fc55",
   "metadata": {},
   "source": [
    "<font size=\"4\"> Creating a dummy regressor model for comparison with eventual linear regression model later on"
   ]
  },
  {
   "cell_type": "code",
   "execution_count": null,
   "id": "ee55e81a",
   "metadata": {},
   "outputs": [],
   "source": []
  },
  {
   "cell_type": "code",
   "execution_count": 7,
   "id": "7a9bddec",
   "metadata": {},
   "outputs": [
    {
     "data": {
      "text/plain": [
       "array([[243.17284581]])"
      ]
     },
     "execution_count": 7,
     "metadata": {},
     "output_type": "execute_result"
    }
   ],
   "source": [
    "#Initializing and fitting the DummyRegressor to the training dataset\n",
    "dumb_reg = DummyRegressor(strategy='mean')\n",
    "dumb_reg.fit(x_train_scaled, y_train)\n",
    "dumb_reg.constant_"
   ]
  },
  {
   "cell_type": "code",
   "execution_count": 8,
   "id": "31640f6f",
   "metadata": {},
   "outputs": [
    {
     "data": {
      "text/plain": [
       "Price    243.172846\n",
       "dtype: float64"
      ]
     },
     "execution_count": 8,
     "metadata": {},
     "output_type": "execute_result"
    }
   ],
   "source": [
    "#Comparing DummyRegressor to y_train's mean (they should be the same)\n",
    "y_train.mean()"
   ]
  },
  {
   "cell_type": "code",
   "execution_count": 9,
   "id": "dc3dbca7",
   "metadata": {},
   "outputs": [
    {
     "data": {
      "text/plain": [
       "array([243.17284581, 243.17284581, 243.17284581, 243.17284581,\n",
       "       243.17284581])"
      ]
     },
     "execution_count": 9,
     "metadata": {},
     "output_type": "execute_result"
    }
   ],
   "source": [
    "#Using the model to predict the target datapoints of x_train_scaled (which should equal the mean of y_train)\n",
    "y_tr_pred = dumb_reg.predict(x_train_scaled)\n",
    "y_tr_pred[:5]"
   ]
  },
  {
   "cell_type": "code",
   "execution_count": 10,
   "id": "b0aa086e",
   "metadata": {},
   "outputs": [
    {
     "data": {
      "text/plain": [
       "0.0"
      ]
     },
     "execution_count": 10,
     "metadata": {},
     "output_type": "execute_result"
    }
   ],
   "source": [
    "#Calculating the R squared of dummy regressor\n",
    "r2_score(y_train, y_tr_pred)"
   ]
  },
  {
   "cell_type": "code",
   "execution_count": 11,
   "id": "9b474171",
   "metadata": {},
   "outputs": [
    {
     "data": {
      "text/plain": [
       "(105.21345004024374, 19888.901141562557)"
      ]
     },
     "execution_count": 11,
     "metadata": {},
     "output_type": "execute_result"
    }
   ],
   "source": [
    "#Calculating these performance metrics for eventual comparison to linear regression model\n",
    "mean_absolute_error(y_train, y_tr_pred), mean_squared_error(y_train, y_tr_pred)"
   ]
  },
  {
   "cell_type": "markdown",
   "id": "438d61d9",
   "metadata": {},
   "source": [
    "<font size=\"4\">\n",
    "As expected, the dummy regressor R squared result equals 0. This is because the dummy regressor equates to deriving the mean of the y_train datapoints, and as such, regressing the fitted model against the y_train mean should equate to 0"
   ]
  },
  {
   "cell_type": "markdown",
   "id": "ff605e98",
   "metadata": {},
   "source": [
    "<font size=\"4\">\n",
    "The below steps initiate and construct the Linear Regression model that forms the core of this analysis"
   ]
  },
  {
   "cell_type": "code",
   "execution_count": null,
   "id": "dc033297",
   "metadata": {},
   "outputs": [],
   "source": []
  },
  {
   "cell_type": "code",
   "execution_count": 12,
   "id": "47d160f6",
   "metadata": {},
   "outputs": [],
   "source": [
    "#Initializing Linear Regression model\n",
    "rModel = linear_model.LinearRegression(normalize=True)"
   ]
  },
  {
   "cell_type": "code",
   "execution_count": 13,
   "id": "8e4b7233",
   "metadata": {},
   "outputs": [
    {
     "data": {
      "text/plain": [
       "LinearRegression(normalize=True)"
      ]
     },
     "execution_count": 13,
     "metadata": {},
     "output_type": "execute_result"
    }
   ],
   "source": [
    "#Fitting model onto the scaled x and y datapoints in the training set\n",
    "rModel.fit(x_train_scaled, y_train)"
   ]
  },
  {
   "cell_type": "code",
   "execution_count": 14,
   "id": "11cdf559",
   "metadata": {},
   "outputs": [],
   "source": [
    "y_tr_pred = rModel.predict(x_train_scaled)"
   ]
  },
  {
   "cell_type": "markdown",
   "id": "8645d618",
   "metadata": {},
   "source": [
    "<font size=\"4\">\n",
    "Let's compute the efficacy of the recently fitted linear regression model"
   ]
  },
  {
   "cell_type": "raw",
   "id": "381fb94f",
   "metadata": {},
   "source": []
  },
  {
   "cell_type": "code",
   "execution_count": 15,
   "id": "d7cc5a48",
   "metadata": {},
   "outputs": [
    {
     "data": {
      "text/plain": [
       "0.5574192262748519"
      ]
     },
     "execution_count": 15,
     "metadata": {},
     "output_type": "execute_result"
    }
   ],
   "source": [
    "#Calculating R squared for training model (scaled)\n",
    "rModel.score(x_train_scaled, y_train)"
   ]
  },
  {
   "cell_type": "code",
   "execution_count": 16,
   "id": "756a8623",
   "metadata": {},
   "outputs": [
    {
     "data": {
      "text/plain": [
       "0.5574192262748519"
      ]
     },
     "execution_count": 16,
     "metadata": {},
     "output_type": "execute_result"
    }
   ],
   "source": [
    "#Calculating R squared using r2_score method\n",
    "r2_score(y_train, y_tr_pred)"
   ]
  },
  {
   "cell_type": "code",
   "execution_count": 17,
   "id": "3f93a6d3",
   "metadata": {},
   "outputs": [
    {
     "name": "stderr",
     "output_type": "stream",
     "text": [
      "C:\\Users\\Mark Lee\\anaconda3\\lib\\site-packages\\sklearn\\base.py:443: UserWarning: X has feature names, but LinearRegression was fitted without feature names\n",
      "  warnings.warn(\n"
     ]
    },
    {
     "data": {
      "text/plain": [
       "-9.422069068069914e+38"
      ]
     },
     "execution_count": 17,
     "metadata": {},
     "output_type": "execute_result"
    }
   ],
   "source": [
    "#For personal curiosity, just running rModel.score() on (unscaled) x_train datapoints to see the R squared for this non-scaled model\n",
    "rModel.score(x_train, y_train)"
   ]
  },
  {
   "cell_type": "markdown",
   "id": "f21ef15f",
   "metadata": {},
   "source": [
    "<font size=\"3\">\n",
    "    \n",
    "Given the chaotic nature of the pairplots (in the EDA stage), the scaling/normalization distortions caused by utilizing StandardScaler on non-normal distributed datapoints, and coupled with the non-parametric underlying data distributions for each feature, I'm quite surprised by the R squared result of 55%. Although the current variables only explain 55% of residual variances, the model's predictive capabilities perform much higher vs expectations from visual inspection of the fragmented data distributions and relationships during EDA, where no correlations between any two variables existed above 15%. This output highlights the beauty of multi-variate linear regressions in unearthing patterns and optimizing variable relationships beneath seemingly uncorrelated data.\n",
    "\n",
    "Note 1: The model doesn't differentiate between Airbnb price segments and the varying factors and pertinent gradient dynamics towards respective Airbnb price segements. For instance, consumer psychology and pricing dynamics towards luxury vs economy segments should differ dramatically. Similarly, bimodal (or even tri-modal) distributions may more accurately describe the underlying data, whereas, this model mapped the regression model over an assumed idealized normal distribution. These multitudes of confounding variables further signify the impressiveness of the 55% output. \n",
    "\n",
    "Note 2: Every city's datapoints are aggregated into one complete dataset and regressed into one linear regression model. In future studies, independent linear regressions for each respective city should be performed to produce better models. With this in mind, aggregating all cities into one linear regression model may also contribute significantly to the divergences around the regression line (for different cities may be more expensive or cheaper for the same features)"
   ]
  },
  {
   "cell_type": "markdown",
   "id": "1d449a03",
   "metadata": {},
   "source": [
    "Next step: let's utilize the previous fitted linear regression model to predict target variables based for the test dataset"
   ]
  },
  {
   "cell_type": "code",
   "execution_count": null,
   "id": "e49bd628",
   "metadata": {},
   "outputs": [],
   "source": []
  },
  {
   "cell_type": "markdown",
   "id": "d533ed45",
   "metadata": {},
   "source": [
    "\n"
   ]
  },
  {
   "cell_type": "code",
   "execution_count": 18,
   "id": "9683305c",
   "metadata": {},
   "outputs": [],
   "source": [
    "#Predicting the target prices by fitting the previous model onto the x_test (scaled) datapoints\n",
    "y_te_pred = rModel.predict(x_test_scaled)"
   ]
  },
  {
   "cell_type": "code",
   "execution_count": 19,
   "id": "2bf65393",
   "metadata": {},
   "outputs": [
    {
     "data": {
      "text/plain": [
       "0.5528159544988167"
      ]
     },
     "execution_count": 19,
     "metadata": {},
     "output_type": "execute_result"
    }
   ],
   "source": [
    "#Calculating R squared on the y_pred vs y_test datapoints\n",
    "rModel.score(x_test_scaled, y_test)"
   ]
  },
  {
   "cell_type": "code",
   "execution_count": 20,
   "id": "11b0ffec",
   "metadata": {},
   "outputs": [
    {
     "data": {
      "text/plain": [
       "0.5528159544988167"
      ]
     },
     "execution_count": 20,
     "metadata": {},
     "output_type": "execute_result"
    }
   ],
   "source": [
    "#Calculating R squared on the test data predictions vs actual using the r2_score method\n",
    "r2_score(y_test, y_te_pred)"
   ]
  },
  {
   "cell_type": "markdown",
   "id": "15e42bf8",
   "metadata": {},
   "source": [
    "<font size=\"3\">\n",
    "    \n",
    "The resulting R squared (55.28%) of the predicive model is actually quite similar to the training models R squared output (55.74%) indicating that model overfitting isn't an issue.\n",
    "\n",
    "Let's visualize the predicted datapoints vs the actual price data for the test datapoints"
   ]
  },
  {
   "cell_type": "code",
   "execution_count": 21,
   "id": "5c365795",
   "metadata": {},
   "outputs": [
    {
     "data": {
      "text/plain": [
       "Text(0, 0.5, 'Predicted Prices')"
      ]
     },
     "execution_count": 21,
     "metadata": {},
     "output_type": "execute_result"
    },
    {
     "data": {
      "image/png": "[encoded data removed]",
      "text/plain": [
       "<Figure size 640x480 with 1 Axes>"
      ]
     },
     "metadata": {},
     "output_type": "display_data"
    }
   ],
   "source": [
    "#Plotting y_test vs y_pred to see how well the predictions match the results\n",
    "#Also plotting idealized regression line to easily visualize optimal results\n",
    "plt.scatter(y_test, y_te_pred)\n",
    "plt.plot(range(0, 900), range(0,900), color='red', alpha=.3)\n",
    "plt.title('Actual vs Predicted Prices')\n",
    "plt.xlabel('Actual')\n",
    "plt.ylabel('Predicted Prices')"
   ]
  },
  {
   "cell_type": "markdown",
   "id": "d88af520",
   "metadata": {},
   "source": [
    "<font size=\"3\">\n",
    "    \n",
    "The scatterplot manifests a postive correlation between predicted vs actual datapoints, but this correlation remains disparate - i.e descrepancies around the regression line. The largest mean variance centers around the $220 price point, including the largest outliers. These deviations around the regression line indicate that many undiscovered variables towards Airbnb price prediction remain that account for these descrepancies."
   ]
  },
  {
   "cell_type": "markdown",
   "id": "5b52d34e",
   "metadata": {},
   "source": [
    "Let's investigate other metrics to descripe model efficacy"
   ]
  },
  {
   "cell_type": "code",
   "execution_count": 22,
   "id": "b5ce7695",
   "metadata": {},
   "outputs": [
    {
     "data": {
      "text/plain": [
       "69.02025355787245"
      ]
     },
     "execution_count": 22,
     "metadata": {},
     "output_type": "execute_result"
    }
   ],
   "source": [
    "#Calculating Mean Absolute Error\n",
    "mean_absolute_error(y_test, y_te_pred)"
   ]
  },
  {
   "cell_type": "markdown",
   "id": "eafb46c0",
   "metadata": {},
   "source": [
    "The Mean Absolute Error (MAE) signals, on average, the model predictions are off by ~$69 "
   ]
  },
  {
   "cell_type": "code",
   "execution_count": 23,
   "id": "98fe9c52",
   "metadata": {},
   "outputs": [
    {
     "data": {
      "text/plain": [
       "9174.005332532199"
      ]
     },
     "execution_count": 23,
     "metadata": {},
     "output_type": "execute_result"
    }
   ],
   "source": [
    "#Calculating Mean Squared Error\n",
    "mean_squared_error(y_test, y_te_pred)"
   ]
  },
  {
   "cell_type": "code",
   "execution_count": null,
   "id": "005c5f51",
   "metadata": {},
   "outputs": [],
   "source": []
  },
  {
   "cell_type": "markdown",
   "id": "4dc8087a",
   "metadata": {},
   "source": [
    "Let's construct an alternative method to construct a Linear Regression model via Statsmodel's (sm) Ordinary Least Squares\n",
    "\n",
    "Also of note: I'm forced to import a Dataframe from the previous case study, because my current x_train/x_test DF's do not have an added constant for the OLS method. I have the import the previous DF and add the constant (using sm.add_constant) before train_test_split, which are performed in the steps below."
   ]
  },
  {
   "cell_type": "code",
   "execution_count": null,
   "id": "5acdc617",
   "metadata": {},
   "outputs": [],
   "source": [
    "#Importing previous Dataframe to modify it for the OLS model\n",
    "#Had to import previous Dataframe, because \n",
    "df3 = pd.read_csv('df3.csv', index_col=0)"
   ]
  },
  {
   "cell_type": "code",
   "execution_count": 25,
   "id": "db6191b6",
   "metadata": {},
   "outputs": [],
   "source": [
    "#Creating X and Y variables below for train-test-split\n",
    "X = df3.drop('Price', axis=1)"
   ]
  },
  {
   "cell_type": "code",
   "execution_count": 26,
   "id": "cd2c2df3",
   "metadata": {},
   "outputs": [],
   "source": [
    "y = df3.Price"
   ]
  },
  {
   "cell_type": "code",
   "execution_count": 27,
   "id": "a7475860",
   "metadata": {},
   "outputs": [],
   "source": [
    "#Adding constant to x for OLS model\n",
    "X1 = sm.add_constant(X)"
   ]
  },
  {
   "cell_type": "code",
   "execution_count": 28,
   "id": "d3b2bcac",
   "metadata": {},
   "outputs": [],
   "source": [
    "#I'm adding the addendum 2 to each variable here to distinguish from the previous train_test_split\n",
    "X_train2, X_test2, y_train2, y_test2 = train_test_split(X1, y, test_size=.2, random_state=45)"
   ]
  },
  {
   "cell_type": "code",
   "execution_count": 29,
   "id": "af391a6e",
   "metadata": {},
   "outputs": [],
   "source": [
    "# Create the model\n",
    "rModel2 = sm.OLS(y_train2, X_train2)\n",
    "\n",
    "# Fit the model with fit() \n",
    "rModel2_results = rModel2.fit()"
   ]
  },
  {
   "cell_type": "code",
   "execution_count": 30,
   "id": "ce359e32",
   "metadata": {},
   "outputs": [
    {
     "data": {
      "text/html": [
       "<table class=\"simpletable\">\n",
       "<caption>OLS Regression Results</caption>\n",
       "<tr>\n",
       "  <th>Dep. Variable:</th>          <td>Price</td>      <th>  R-squared:         </th>  <td>   0.557</td>  \n",
       "</tr>\n",
       "<tr>\n",
       "  <th>Model:</th>                   <td>OLS</td>       <th>  Adj. R-squared:    </th>  <td>   0.557</td>  \n",
       "</tr>\n",
       "<tr>\n",
       "  <th>Method:</th>             <td>Least Squares</td>  <th>  F-statistic:       </th>  <td>   2228.</td>  \n",
       "</tr>\n",
       "<tr>\n",
       "  <th>Date:</th>             <td>Thu, 14 Sep 2023</td> <th>  Prob (F-statistic):</th>   <td>  0.00</td>   \n",
       "</tr>\n",
       "<tr>\n",
       "  <th>Time:</th>                 <td>05:41:39</td>     <th>  Log-Likelihood:    </th> <td>-2.3225e+05</td>\n",
       "</tr>\n",
       "<tr>\n",
       "  <th>No. Observations:</th>      <td> 38941</td>      <th>  AIC:               </th>  <td>4.645e+05</td> \n",
       "</tr>\n",
       "<tr>\n",
       "  <th>Df Residuals:</th>          <td> 38918</td>      <th>  BIC:               </th>  <td>4.647e+05</td> \n",
       "</tr>\n",
       "<tr>\n",
       "  <th>Df Model:</th>              <td>    22</td>      <th>                     </th>      <td> </td>     \n",
       "</tr>\n",
       "<tr>\n",
       "  <th>Covariance Type:</th>      <td>nonrobust</td>    <th>                     </th>      <td> </td>     \n",
       "</tr>\n",
       "</table>\n",
       "<table class=\"simpletable\">\n",
       "<tr>\n",
       "              <td></td>                <th>coef</th>     <th>std err</th>      <th>t</th>      <th>P>|t|</th>  <th>[0.025</th>    <th>0.975]</th>  \n",
       "</tr>\n",
       "<tr>\n",
       "  <th>const</th>                    <td>  -21.4159</td> <td>    0.929</td> <td>  -23.044</td> <td> 0.000</td> <td>  -23.237</td> <td>  -19.594</td>\n",
       "</tr>\n",
       "<tr>\n",
       "  <th>Person Capacity</th>          <td>   23.7959</td> <td>    0.529</td> <td>   44.959</td> <td> 0.000</td> <td>   22.759</td> <td>   24.833</td>\n",
       "</tr>\n",
       "<tr>\n",
       "  <th>cleanliness_rating</th>       <td>    8.3549</td> <td>    0.719</td> <td>   11.627</td> <td> 0.000</td> <td>    6.946</td> <td>    9.763</td>\n",
       "</tr>\n",
       "<tr>\n",
       "  <th>guest satis rating</th>       <td>    0.0695</td> <td>    0.078</td> <td>    0.889</td> <td> 0.374</td> <td>   -0.084</td> <td>    0.223</td>\n",
       "</tr>\n",
       "<tr>\n",
       "  <th>bedrooms</th>                 <td>   36.3544</td> <td>    0.976</td> <td>   37.249</td> <td> 0.000</td> <td>   34.441</td> <td>   38.267</td>\n",
       "</tr>\n",
       "<tr>\n",
       "  <th>dist</th>                     <td>   -4.7907</td> <td>    0.349</td> <td>  -13.712</td> <td> 0.000</td> <td>   -5.475</td> <td>   -4.106</td>\n",
       "</tr>\n",
       "<tr>\n",
       "  <th>metro_dist</th>               <td>   -4.7428</td> <td>    0.725</td> <td>   -6.539</td> <td> 0.000</td> <td>   -6.164</td> <td>   -3.321</td>\n",
       "</tr>\n",
       "<tr>\n",
       "  <th>attr_index</th>               <td>    0.0910</td> <td>    0.004</td> <td>   21.285</td> <td> 0.000</td> <td>    0.083</td> <td>    0.099</td>\n",
       "</tr>\n",
       "<tr>\n",
       "  <th>Rest Index</th>               <td>    0.0264</td> <td>    0.002</td> <td>   11.947</td> <td> 0.000</td> <td>    0.022</td> <td>    0.031</td>\n",
       "</tr>\n",
       "<tr>\n",
       "  <th>GDP (B USD)</th>              <td>    0.1051</td> <td>    0.018</td> <td>    5.817</td> <td> 0.000</td> <td>    0.070</td> <td>    0.141</td>\n",
       "</tr>\n",
       "<tr>\n",
       "  <th>Population</th>               <td>-2.597e-06</td> <td> 2.04e-06</td> <td>   -1.271</td> <td> 0.204</td> <td> -6.6e-06</td> <td> 1.41e-06</td>\n",
       "</tr>\n",
       "<tr>\n",
       "  <th>Pop Density (ppl/km2)</th>    <td>    0.0090</td> <td>    0.000</td> <td>   46.391</td> <td> 0.000</td> <td>    0.009</td> <td>    0.009</td>\n",
       "</tr>\n",
       "<tr>\n",
       "  <th>GDP per capita</th>           <td>   -0.3057</td> <td>    0.035</td> <td>   -8.692</td> <td> 0.000</td> <td>   -0.375</td> <td>   -0.237</td>\n",
       "</tr>\n",
       "<tr>\n",
       "  <th>Room Type_Private room</th>   <td>  -47.8669</td> <td>    0.646</td> <td>  -74.124</td> <td> 0.000</td> <td>  -49.133</td> <td>  -46.601</td>\n",
       "</tr>\n",
       "<tr>\n",
       "  <th>Room Type_Shared room</th>    <td>  -88.3754</td> <td>    2.879</td> <td>  -30.695</td> <td> 0.000</td> <td>  -94.019</td> <td>  -82.732</td>\n",
       "</tr>\n",
       "<tr>\n",
       "  <th>Shared Room_True</th>         <td>  -88.3754</td> <td>    2.879</td> <td>  -30.695</td> <td> 0.000</td> <td>  -94.019</td> <td>  -82.732</td>\n",
       "</tr>\n",
       "<tr>\n",
       "  <th>Private Room_True</th>        <td>  -47.8669</td> <td>    0.646</td> <td>  -74.124</td> <td> 0.000</td> <td>  -49.133</td> <td>  -46.601</td>\n",
       "</tr>\n",
       "<tr>\n",
       "  <th>Superhost?_True</th>          <td>    2.3033</td> <td>    1.173</td> <td>    1.964</td> <td> 0.049</td> <td>    0.005</td> <td>    4.601</td>\n",
       "</tr>\n",
       "<tr>\n",
       "  <th>Multi Listing?_1</th>         <td>   16.5587</td> <td>    1.236</td> <td>   13.394</td> <td> 0.000</td> <td>   14.136</td> <td>   18.982</td>\n",
       "</tr>\n",
       "<tr>\n",
       "  <th>Biz Listing?_1</th>           <td>   33.4831</td> <td>    1.242</td> <td>   26.962</td> <td> 0.000</td> <td>   31.049</td> <td>   35.917</td>\n",
       "</tr>\n",
       "<tr>\n",
       "  <th>Weekday/Weekend_weekends</th> <td>    6.2279</td> <td>    0.956</td> <td>    6.513</td> <td> 0.000</td> <td>    4.354</td> <td>    8.102</td>\n",
       "</tr>\n",
       "<tr>\n",
       "  <th>city_barcelona</th>           <td>  -10.6034</td> <td>    0.482</td> <td>  -22.012</td> <td> 0.000</td> <td>  -11.548</td> <td>   -9.659</td>\n",
       "</tr>\n",
       "<tr>\n",
       "  <th>city_berlin</th>              <td>   47.1775</td> <td>    0.995</td> <td>   47.437</td> <td> 0.000</td> <td>   45.228</td> <td>   49.127</td>\n",
       "</tr>\n",
       "<tr>\n",
       "  <th>city_budapest</th>            <td>  -33.8047</td> <td>    1.006</td> <td>  -33.617</td> <td> 0.000</td> <td>  -35.776</td> <td>  -31.834</td>\n",
       "</tr>\n",
       "<tr>\n",
       "  <th>city_lisbon</th>              <td>   20.7236</td> <td>    1.141</td> <td>   18.165</td> <td> 0.000</td> <td>   18.487</td> <td>   22.960</td>\n",
       "</tr>\n",
       "<tr>\n",
       "  <th>city_london</th>              <td>   -7.9818</td> <td>    0.444</td> <td>  -17.980</td> <td> 0.000</td> <td>   -8.852</td> <td>   -7.112</td>\n",
       "</tr>\n",
       "<tr>\n",
       "  <th>city_paris</th>               <td>    2.8048</td> <td>    0.376</td> <td>    7.457</td> <td> 0.000</td> <td>    2.068</td> <td>    3.542</td>\n",
       "</tr>\n",
       "<tr>\n",
       "  <th>city_rome</th>                <td>  -19.2867</td> <td>    0.834</td> <td>  -23.125</td> <td> 0.000</td> <td>  -20.921</td> <td>  -17.652</td>\n",
       "</tr>\n",
       "<tr>\n",
       "  <th>city_vienna</th>              <td>   20.3374</td> <td>    1.758</td> <td>   11.567</td> <td> 0.000</td> <td>   16.891</td> <td>   23.784</td>\n",
       "</tr>\n",
       "<tr>\n",
       "  <th>Country_England</th>          <td>   -7.9818</td> <td>    0.444</td> <td>  -17.980</td> <td> 0.000</td> <td>   -8.852</td> <td>   -7.112</td>\n",
       "</tr>\n",
       "<tr>\n",
       "  <th>Country_France</th>           <td>    2.8048</td> <td>    0.376</td> <td>    7.457</td> <td> 0.000</td> <td>    2.068</td> <td>    3.542</td>\n",
       "</tr>\n",
       "<tr>\n",
       "  <th>Country_Germany</th>          <td>   47.1775</td> <td>    0.995</td> <td>   47.437</td> <td> 0.000</td> <td>   45.228</td> <td>   49.127</td>\n",
       "</tr>\n",
       "<tr>\n",
       "  <th>Country_Greece</th>           <td>  -40.7826</td> <td>    1.152</td> <td>  -35.398</td> <td> 0.000</td> <td>  -43.041</td> <td>  -38.524</td>\n",
       "</tr>\n",
       "<tr>\n",
       "  <th>Country_Hungary</th>          <td>  -33.8047</td> <td>    1.006</td> <td>  -33.617</td> <td> 0.000</td> <td>  -35.776</td> <td>  -31.834</td>\n",
       "</tr>\n",
       "<tr>\n",
       "  <th>Country_Italy</th>            <td>  -19.2867</td> <td>    0.834</td> <td>  -23.125</td> <td> 0.000</td> <td>  -20.921</td> <td>  -17.652</td>\n",
       "</tr>\n",
       "<tr>\n",
       "  <th>Country_Portugal</th>         <td>   20.7236</td> <td>    1.141</td> <td>   18.165</td> <td> 0.000</td> <td>   18.487</td> <td>   22.960</td>\n",
       "</tr>\n",
       "<tr>\n",
       "  <th>Country_Spain</th>            <td>  -10.6034</td> <td>    0.482</td> <td>  -22.012</td> <td> 0.000</td> <td>  -11.548</td> <td>   -9.659</td>\n",
       "</tr>\n",
       "</table>\n",
       "<table class=\"simpletable\">\n",
       "<tr>\n",
       "  <th>Omnibus:</th>       <td>11515.246</td> <th>  Durbin-Watson:     </th> <td>   2.009</td> \n",
       "</tr>\n",
       "<tr>\n",
       "  <th>Prob(Omnibus):</th>  <td> 0.000</td>   <th>  Jarque-Bera (JB):  </th> <td>42311.501</td>\n",
       "</tr>\n",
       "<tr>\n",
       "  <th>Skew:</th>           <td> 1.457</td>   <th>  Prob(JB):          </th> <td>    0.00</td> \n",
       "</tr>\n",
       "<tr>\n",
       "  <th>Kurtosis:</th>       <td> 7.193</td>   <th>  Cond. No.          </th> <td>6.63e+20</td> \n",
       "</tr>\n",
       "</table><br/><br/>Notes:<br/>[1] Standard Errors assume that the covariance matrix of the errors is correctly specified.<br/>[2] The smallest eigenvalue is 1.67e-24. This might indicate that there are<br/>strong multicollinearity problems or that the design matrix is singular."
      ],
      "text/plain": [
       "<class 'statsmodels.iolib.summary.Summary'>\n",
       "\"\"\"\n",
       "                            OLS Regression Results                            \n",
       "==============================================================================\n",
       "Dep. Variable:                  Price   R-squared:                       0.557\n",
       "Model:                            OLS   Adj. R-squared:                  0.557\n",
       "Method:                 Least Squares   F-statistic:                     2228.\n",
       "Date:                Thu, 14 Sep 2023   Prob (F-statistic):               0.00\n",
       "Time:                        05:41:39   Log-Likelihood:            -2.3225e+05\n",
       "No. Observations:               38941   AIC:                         4.645e+05\n",
       "Df Residuals:                   38918   BIC:                         4.647e+05\n",
       "Df Model:                          22                                         \n",
       "Covariance Type:            nonrobust                                         \n",
       "============================================================================================\n",
       "                               coef    std err          t      P>|t|      [0.025      0.975]\n",
       "--------------------------------------------------------------------------------------------\n",
       "const                      -21.4159      0.929    -23.044      0.000     -23.237     -19.594\n",
       "Person Capacity             23.7959      0.529     44.959      0.000      22.759      24.833\n",
       "cleanliness_rating           8.3549      0.719     11.627      0.000       6.946       9.763\n",
       "guest satis rating           0.0695      0.078      0.889      0.374      -0.084       0.223\n",
       "bedrooms                    36.3544      0.976     37.249      0.000      34.441      38.267\n",
       "dist                        -4.7907      0.349    -13.712      0.000      -5.475      -4.106\n",
       "metro_dist                  -4.7428      0.725     -6.539      0.000      -6.164      -3.321\n",
       "attr_index                   0.0910      0.004     21.285      0.000       0.083       0.099\n",
       "Rest Index                   0.0264      0.002     11.947      0.000       0.022       0.031\n",
       "GDP (B USD)                  0.1051      0.018      5.817      0.000       0.070       0.141\n",
       "Population               -2.597e-06   2.04e-06     -1.271      0.204    -6.6e-06    1.41e-06\n",
       "Pop Density (ppl/km2)        0.0090      0.000     46.391      0.000       0.009       0.009\n",
       "GDP per capita              -0.3057      0.035     -8.692      0.000      -0.375      -0.237\n",
       "Room Type_Private room     -47.8669      0.646    -74.124      0.000     -49.133     -46.601\n",
       "Room Type_Shared room      -88.3754      2.879    -30.695      0.000     -94.019     -82.732\n",
       "Shared Room_True           -88.3754      2.879    -30.695      0.000     -94.019     -82.732\n",
       "Private Room_True          -47.8669      0.646    -74.124      0.000     -49.133     -46.601\n",
       "Superhost?_True              2.3033      1.173      1.964      0.049       0.005       4.601\n",
       "Multi Listing?_1            16.5587      1.236     13.394      0.000      14.136      18.982\n",
       "Biz Listing?_1              33.4831      1.242     26.962      0.000      31.049      35.917\n",
       "Weekday/Weekend_weekends     6.2279      0.956      6.513      0.000       4.354       8.102\n",
       "city_barcelona             -10.6034      0.482    -22.012      0.000     -11.548      -9.659\n",
       "city_berlin                 47.1775      0.995     47.437      0.000      45.228      49.127\n",
       "city_budapest              -33.8047      1.006    -33.617      0.000     -35.776     -31.834\n",
       "city_lisbon                 20.7236      1.141     18.165      0.000      18.487      22.960\n",
       "city_london                 -7.9818      0.444    -17.980      0.000      -8.852      -7.112\n",
       "city_paris                   2.8048      0.376      7.457      0.000       2.068       3.542\n",
       "city_rome                  -19.2867      0.834    -23.125      0.000     -20.921     -17.652\n",
       "city_vienna                 20.3374      1.758     11.567      0.000      16.891      23.784\n",
       "Country_England             -7.9818      0.444    -17.980      0.000      -8.852      -7.112\n",
       "Country_France               2.8048      0.376      7.457      0.000       2.068       3.542\n",
       "Country_Germany             47.1775      0.995     47.437      0.000      45.228      49.127\n",
       "Country_Greece             -40.7826      1.152    -35.398      0.000     -43.041     -38.524\n",
       "Country_Hungary            -33.8047      1.006    -33.617      0.000     -35.776     -31.834\n",
       "Country_Italy              -19.2867      0.834    -23.125      0.000     -20.921     -17.652\n",
       "Country_Portugal            20.7236      1.141     18.165      0.000      18.487      22.960\n",
       "Country_Spain              -10.6034      0.482    -22.012      0.000     -11.548      -9.659\n",
       "==============================================================================\n",
       "Omnibus:                    11515.246   Durbin-Watson:                   2.009\n",
       "Prob(Omnibus):                  0.000   Jarque-Bera (JB):            42311.501\n",
       "Skew:                           1.457   Prob(JB):                         0.00\n",
       "Kurtosis:                       7.193   Cond. No.                     6.63e+20\n",
       "==============================================================================\n",
       "\n",
       "Notes:\n",
       "[1] Standard Errors assume that the covariance matrix of the errors is correctly specified.\n",
       "[2] The smallest eigenvalue is 1.67e-24. This might indicate that there are\n",
       "strong multicollinearity problems or that the design matrix is singular.\n",
       "\"\"\""
      ]
     },
     "execution_count": 30,
     "metadata": {},
     "output_type": "execute_result"
    }
   ],
   "source": [
    "#Evaluating the fitted model\n",
    "rModel2_results.summary()"
   ]
  },
  {
   "cell_type": "code",
   "execution_count": 31,
   "id": "2ee9e444",
   "metadata": {},
   "outputs": [
    {
     "data": {
      "text/plain": [
       "Country_Germany             47.177504\n",
       "city_berlin                 47.177504\n",
       "bedrooms                    36.354390\n",
       "Biz Listing?_1              33.483121\n",
       "Person Capacity             23.795911\n",
       "city_lisbon                 20.723601\n",
       "Country_Portugal            20.723601\n",
       "city_vienna                 20.337364\n",
       "Multi Listing?_1            16.558693\n",
       "cleanliness_rating           8.354936\n",
       "Weekday/Weekend_weekends     6.227904\n",
       "Country_France               2.804751\n",
       "city_paris                   2.804751\n",
       "Superhost?_True              2.303259\n",
       "GDP (B USD)                  0.105096\n",
       "attr_index                   0.090958\n",
       "guest satis rating           0.069548\n",
       "Rest Index                   0.026395\n",
       "Pop Density (ppl/km2)        0.008963\n",
       "Population                  -0.000003\n",
       "GDP per capita              -0.305668\n",
       "metro_dist                  -4.742789\n",
       "dist                        -4.790663\n",
       "city_london                 -7.981769\n",
       "Country_England             -7.981769\n",
       "Country_Spain              -10.603354\n",
       "city_barcelona             -10.603354\n",
       "city_rome                  -19.286694\n",
       "Country_Italy              -19.286694\n",
       "const                      -21.415912\n",
       "city_budapest              -33.804738\n",
       "Country_Hungary            -33.804738\n",
       "Country_Greece             -40.782578\n",
       "Private Room_True          -47.866882\n",
       "Room Type_Private room     -47.866882\n",
       "Shared Room_True           -88.375432\n",
       "Room Type_Shared room      -88.375432\n",
       "dtype: float64"
      ]
     },
     "execution_count": 31,
     "metadata": {},
     "output_type": "execute_result"
    }
   ],
   "source": [
    "rModel2_results.params.sort_values(ascending=False)"
   ]
  },
  {
   "cell_type": "markdown",
   "id": "d8a8d7f3",
   "metadata": {},
   "source": [
    "<font size=\"3\">\n",
    "    \n",
    "Because the Ordinary Least Squares method is the same loss function used to compute the regression in the previous Linear Regression model, it's no surprise that the outputed R squared is identical.\n",
    "\n",
    "The Statsmodel OLS method also prints a more detailed analysis of the modeled coefficients. One can easily discern the most signficant (postive or negative ) features towards price prediction\n",
    "- It's no surprise that bedroom and person capacity are the biggest (non-geographic) indicators toward price increases. \n",
    "- However, surprisingly, distance from metro (and other distance-related metrics) figure little into AirBnb price increases. This may be due to the fact that consumers price AirBnb room towards valuable attractions and not towards distance to metros. Furthermore, in certain cities, public transportation may play a minimal role in transportation logistics.  \n",
    "- Biz Listing: This feature is the most important coeficient in this analysis towards assisting future Airbnb landlord decisions.\n",
    "    \n",
    "However, at this point, it's still too early to conclude the logic of the Statsmodel-OLS outputs. The Random Forest model (later in this study) may arrive at more effective logic for these datapoints. \n"
   ]
  },
  {
   "cell_type": "code",
   "execution_count": null,
   "id": "b54ec8d1",
   "metadata": {},
   "outputs": [],
   "source": []
  },
  {
   "cell_type": "code",
   "execution_count": 32,
   "id": "4e318bfa",
   "metadata": {},
   "outputs": [],
   "source": [
    "# Let's use our new model to make predictions of the dependent variable y for the test datasets\n",
    "y_te_pred2 = rModel2_results.predict(X_test2)"
   ]
  },
  {
   "cell_type": "code",
   "execution_count": 33,
   "id": "19479b7c",
   "metadata": {},
   "outputs": [
    {
     "data": {
      "text/plain": [
       "Text(0, 0.5, 'Actual Values')"
      ]
     },
     "execution_count": 33,
     "metadata": {},
     "output_type": "execute_result"
    },
    {
     "data": {
      "image/png": "[encoded data removed]",
      "text/plain": [
       "<Figure size 640x480 with 1 Axes>"
      ]
     },
     "metadata": {},
     "output_type": "display_data"
    }
   ],
   "source": [
    "\n",
    "#### Plot the predictions\n",
    "# Build a scatterplot\n",
    "plt.scatter(y_test2, y_te_pred2, color='g', alpha=.3)\n",
    "\n",
    "# Add a line for perfect correlation. Can you see what this line is doing? Use plot()\n",
    "plt.plot(range(0,900), range(0, 900), color='r', alpha=.3)\n",
    "\n",
    "# Label it nicely\n",
    "plt.title(\"Model 2 predictions vs. the actual values\")\n",
    "plt.xlabel('Model 2 predictions')\n",
    "plt.ylabel('Actual Values')\n"
   ]
  },
  {
   "cell_type": "code",
   "execution_count": 34,
   "id": "d4699e39",
   "metadata": {},
   "outputs": [
    {
     "data": {
      "text/plain": [
       "0.5536393988832773"
      ]
     },
     "execution_count": 34,
     "metadata": {},
     "output_type": "execute_result"
    }
   ],
   "source": [
    "#Calculating R squared for this OLS method for the test dataset\n",
    "r2_score(y_test2, y_te_pred2)"
   ]
  },
  {
   "cell_type": "code",
   "execution_count": null,
   "id": "2393f7fc",
   "metadata": {},
   "outputs": [],
   "source": []
  },
  {
   "cell_type": "code",
   "execution_count": null,
   "id": "d813b296",
   "metadata": {},
   "outputs": [],
   "source": []
  },
  {
   "cell_type": "markdown",
   "id": "0a58a02a",
   "metadata": {},
   "source": [
    "<font size=\"3\">\n",
    "    \n",
    "In these below steps, I am creating and testing make_pipeline to ensure it creates the same process and results\n",
    "    \n",
    "(These steps do not contribute towards further analysis of the datapoints and can be ignored)"
   ]
  },
  {
   "cell_type": "code",
   "execution_count": 35,
   "id": "4eb5a89c",
   "metadata": {},
   "outputs": [],
   "source": [
    "#Creating pipeline\n",
    "pipe = make_pipeline( \n",
    "    StandardScaler(),\n",
    "    LinearRegression())"
   ]
  },
  {
   "cell_type": "code",
   "execution_count": 36,
   "id": "e022530a",
   "metadata": {},
   "outputs": [
    {
     "data": {
      "text/plain": [
       "Pipeline(steps=[('standardscaler', StandardScaler()),\n",
       "                ('linearregression', LinearRegression())])"
      ]
     },
     "execution_count": 36,
     "metadata": {},
     "output_type": "execute_result"
    }
   ],
   "source": [
    "#Fitting pipeline\n",
    "pipe.fit(x_train,y_train)"
   ]
  },
  {
   "cell_type": "code",
   "execution_count": 37,
   "id": "fc7c0a30",
   "metadata": {},
   "outputs": [],
   "source": [
    "y_tr_pred2 = pipe.predict(x_train)"
   ]
  },
  {
   "cell_type": "code",
   "execution_count": 38,
   "id": "26e652d8",
   "metadata": {},
   "outputs": [],
   "source": [
    "y_te_pred2 = pipe.predict(x_test)"
   ]
  },
  {
   "cell_type": "code",
   "execution_count": 39,
   "id": "8e7f9cdf",
   "metadata": {},
   "outputs": [
    {
     "data": {
      "text/plain": [
       "(0.5528434841648482,)"
      ]
     },
     "execution_count": 39,
     "metadata": {},
     "output_type": "execute_result"
    }
   ],
   "source": [
    "#Calculating r-squared to compare with my previous models to test this pipeline\n",
    "r2_score(y_test, y_te_pred2),"
   ]
  },
  {
   "cell_type": "markdown",
   "id": "fd4701ac",
   "metadata": {},
   "source": [
    "<font size=\"3\">\n",
    "    \n",
    "Creating a pipeline for GridSearchCV to determine the optimal number of featuers for this Linear Regression Model:\n",
    "\n",
    "In the below steps, I am aggregating the stages of StandardScaler, SelectKBest, and Linear Regression into one process using make_pipeline. "
   ]
  },
  {
   "cell_type": "code",
   "execution_count": null,
   "id": "e0869ee1",
   "metadata": {},
   "outputs": [],
   "source": [
    "#Creating the pipeline\n",
    "#Note, SelectKBest defaults to k=10 if no K is given, which is the case below\n",
    "pipe10 = make_pipeline( \n",
    "    StandardScaler(),\n",
    "    SelectKBest(f_regression, k=25),\n",
    "    LinearRegression())"
   ]
  },
  {
   "cell_type": "code",
   "execution_count": 41,
   "id": "e153ce09",
   "metadata": {},
   "outputs": [
    {
     "name": "stderr",
     "output_type": "stream",
     "text": [
      "C:\\Users\\Mark Lee\\anaconda3\\lib\\site-packages\\sklearn\\utils\\validation.py:993: DataConversionWarning: A column-vector y was passed when a 1d array was expected. Please change the shape of y to (n_samples, ), for example using ravel().\n",
      "  y = column_or_1d(y, warn=True)\n"
     ]
    },
    {
     "data": {
      "text/plain": [
       "Pipeline(steps=[('standardscaler', StandardScaler()),\n",
       "                ('selectkbest',\n",
       "                 SelectKBest(score_func=<function f_regression at 0x0000023A26B78B80>)),\n",
       "                ('linearregression', LinearRegression())])"
      ]
     },
     "execution_count": 41,
     "metadata": {},
     "output_type": "execute_result"
    }
   ],
   "source": [
    "#Fitting the pipeline to the training dataset\n",
    "pipe10.fit(x_train, y_train)"
   ]
  },
  {
   "cell_type": "code",
   "execution_count": 42,
   "id": "bb122caf",
   "metadata": {},
   "outputs": [],
   "source": [
    "#Predicting the training and test datasets\n",
    "y_tr_pred3 = pipe10.predict(x_train)\n",
    "y_te_pred3 = pipe10.predict(x_test)"
   ]
  },
  {
   "cell_type": "code",
   "execution_count": 43,
   "id": "e3358d09",
   "metadata": {},
   "outputs": [
    {
     "data": {
      "text/plain": [
       "(0.4675526241518919, 0.46905054883104025)"
      ]
     },
     "execution_count": 43,
     "metadata": {},
     "output_type": "execute_result"
    }
   ],
   "source": [
    "#Calculating the R squared metrics for both the training and test datasets to test the pipeline\n",
    "#Keep in mind, SelectKBest defaults to k=10 for these calculations\n",
    "r2_score(y_train, y_tr_pred3), r2_score(y_test, y_te_pred3), "
   ]
  },
  {
   "cell_type": "code",
   "execution_count": null,
   "id": "62ed6c4d",
   "metadata": {},
   "outputs": [],
   "source": []
  },
  {
   "cell_type": "markdown",
   "id": "9026b048",
   "metadata": {},
   "source": [
    "<font size=\"3\">\n",
    "    \n",
    "The below steps processes the pipeline with cross_validation to create a more robust evaluation of the model"
   ]
  },
  {
   "cell_type": "code",
   "execution_count": 44,
   "id": "641960e8",
   "metadata": {
    "scrolled": true
   },
   "outputs": [
    {
     "name": "stderr",
     "output_type": "stream",
     "text": [
      "C:\\Users\\Mark Lee\\anaconda3\\lib\\site-packages\\sklearn\\utils\\validation.py:993: DataConversionWarning: A column-vector y was passed when a 1d array was expected. Please change the shape of y to (n_samples, ), for example using ravel().\n",
      "  y = column_or_1d(y, warn=True)\n",
      "C:\\Users\\Mark Lee\\anaconda3\\lib\\site-packages\\sklearn\\utils\\validation.py:993: DataConversionWarning: A column-vector y was passed when a 1d array was expected. Please change the shape of y to (n_samples, ), for example using ravel().\n",
      "  y = column_or_1d(y, warn=True)\n",
      "C:\\Users\\Mark Lee\\anaconda3\\lib\\site-packages\\sklearn\\utils\\validation.py:993: DataConversionWarning: A column-vector y was passed when a 1d array was expected. Please change the shape of y to (n_samples, ), for example using ravel().\n",
      "  y = column_or_1d(y, warn=True)\n",
      "C:\\Users\\Mark Lee\\anaconda3\\lib\\site-packages\\sklearn\\utils\\validation.py:993: DataConversionWarning: A column-vector y was passed when a 1d array was expected. Please change the shape of y to (n_samples, ), for example using ravel().\n",
      "  y = column_or_1d(y, warn=True)\n",
      "C:\\Users\\Mark Lee\\anaconda3\\lib\\site-packages\\sklearn\\utils\\validation.py:993: DataConversionWarning: A column-vector y was passed when a 1d array was expected. Please change the shape of y to (n_samples, ), for example using ravel().\n",
      "  y = column_or_1d(y, warn=True)\n"
     ]
    }
   ],
   "source": [
    "cv_results = cross_validate(pipe10, x_train, y_train, cv=5)"
   ]
  },
  {
   "cell_type": "code",
   "execution_count": 45,
   "id": "d35e16d2",
   "metadata": {},
   "outputs": [
    {
     "data": {
      "text/plain": [
       "array([0.46275274, 0.47572876, 0.4630464 , 0.46276947, 0.47059773])"
      ]
     },
     "execution_count": 45,
     "metadata": {},
     "output_type": "execute_result"
    }
   ],
   "source": [
    "cv_scores = cv_results['test_score']\n",
    "cv_scores"
   ]
  },
  {
   "cell_type": "code",
   "execution_count": 46,
   "id": "2d5dd50a",
   "metadata": {},
   "outputs": [
    {
     "data": {
      "text/plain": [
       "(0.46697901975984946, 0.0053047224579802375)"
      ]
     },
     "execution_count": 46,
     "metadata": {},
     "output_type": "execute_result"
    }
   ],
   "source": [
    "#Calculating mean and std of the results\n",
    "np.mean(cv_scores), np.std(cv_scores)"
   ]
  },
  {
   "cell_type": "code",
   "execution_count": 47,
   "id": "ad387667",
   "metadata": {},
   "outputs": [
    {
     "data": {
      "text/plain": [
       "array([0.46, 0.48])"
      ]
     },
     "execution_count": 47,
     "metadata": {},
     "output_type": "execute_result"
    }
   ],
   "source": [
    "#Calculating the 95% confidence interval of the results\n",
    "np.round((np.mean(cv_scores) - 2 * np.std(cv_scores), np.mean(cv_scores) + 2 * np.std(cv_scores)), 2)"
   ]
  },
  {
   "cell_type": "code",
   "execution_count": 48,
   "id": "206648e9",
   "metadata": {},
   "outputs": [
    {
     "data": {
      "text/plain": [
       "dict_keys(['memory', 'steps', 'verbose', 'standardscaler', 'selectkbest', 'linearregression', 'standardscaler__copy', 'standardscaler__with_mean', 'standardscaler__with_std', 'selectkbest__k', 'selectkbest__score_func', 'linearregression__copy_X', 'linearregression__fit_intercept', 'linearregression__n_jobs', 'linearregression__normalize', 'linearregression__positive'])"
      ]
     },
     "execution_count": 48,
     "metadata": {},
     "output_type": "execute_result"
    }
   ],
   "source": [
    "#Outputting the parameters to the model\n",
    "pipe10.get_params().keys()"
   ]
  },
  {
   "cell_type": "markdown",
   "id": "b4ce56c3",
   "metadata": {},
   "source": [
    "<font size=\"3\">\n",
    "    \n",
    "The below steps initiates GridSearchCV to determine the optimal number of features (k) for the linear regression model"
   ]
  },
  {
   "cell_type": "code",
   "execution_count": 49,
   "id": "13471836",
   "metadata": {},
   "outputs": [],
   "source": [
    "#Initiating GridSearchCV\n",
    "k = [k+1 for k in range(len(x_train.columns))]\n",
    "grid_params = {'selectkbest__k': k}"
   ]
  },
  {
   "cell_type": "code",
   "execution_count": 50,
   "id": "eb00eed5",
   "metadata": {},
   "outputs": [],
   "source": [
    "lr_grid_cv = GridSearchCV(pipe10, param_grid=grid_params, cv=5, n_jobs=-1)"
   ]
  },
  {
   "cell_type": "code",
   "execution_count": 51,
   "id": "10c2030c",
   "metadata": {},
   "outputs": [
    {
     "name": "stderr",
     "output_type": "stream",
     "text": [
      "C:\\Users\\Mark Lee\\anaconda3\\lib\\site-packages\\sklearn\\utils\\validation.py:993: DataConversionWarning: A column-vector y was passed when a 1d array was expected. Please change the shape of y to (n_samples, ), for example using ravel().\n",
      "  y = column_or_1d(y, warn=True)\n"
     ]
    },
    {
     "data": {
      "text/plain": [
       "GridSearchCV(cv=5,\n",
       "             estimator=Pipeline(steps=[('standardscaler', StandardScaler()),\n",
       "                                       ('selectkbest',\n",
       "                                        SelectKBest(score_func=<function f_regression at 0x0000023A26B78B80>)),\n",
       "                                       ('linearregression',\n",
       "                                        LinearRegression())]),\n",
       "             n_jobs=-1,\n",
       "             param_grid={'selectkbest__k': [1, 2, 3, 4, 5, 6, 7, 8, 9, 10, 11,\n",
       "                                            12, 13, 14, 15, 16, 17, 18, 19, 20,\n",
       "                                            21, 22, 23, 24, 25, 26, 27, 28, 29,\n",
       "                                            30, ...]})"
      ]
     },
     "execution_count": 51,
     "metadata": {},
     "output_type": "execute_result"
    }
   ],
   "source": [
    "#Fitting the process and model to the training dataset\n",
    "lr_grid_cv.fit(x_train, y_train)"
   ]
  },
  {
   "cell_type": "code",
   "execution_count": 52,
   "id": "94692cd6",
   "metadata": {},
   "outputs": [],
   "source": [
    "#Creating th performance variables\n",
    "score_mean = lr_grid_cv.cv_results_['mean_test_score']\n",
    "score_std = lr_grid_cv.cv_results_['std_test_score']\n",
    "cv_k = [k for k in lr_grid_cv.cv_results_['param_selectkbest__k']]"
   ]
  },
  {
   "cell_type": "code",
   "execution_count": 53,
   "id": "dc0bfb6e",
   "metadata": {},
   "outputs": [
    {
     "data": {
      "text/plain": [
       "array([0.17846278, 0.18132853, 0.36519629, 0.40633588, 0.4063412 ,\n",
       "       0.45347604, 0.46407331, 0.46414914, 0.46561495, 0.46697907,\n",
       "       0.47738717, 0.49023915, 0.49634977, 0.50262792, 0.50262657,\n",
       "       0.52710959, 0.52710857, 0.52711344, 0.52713017, 0.53165775,\n",
       "       0.53675572, 0.53844065, 0.53901737, 0.55065538, 0.5506813 ,\n",
       "       0.5529837 , 0.55470209, 0.554727  , 0.55459323, 0.55184385,\n",
       "       0.55322603, 0.55613637, 0.55622598, 0.55645059, 0.55479387,\n",
       "       0.55685328])"
      ]
     },
     "execution_count": 53,
     "metadata": {},
     "output_type": "execute_result"
    }
   ],
   "source": [
    "score_mean"
   ]
  },
  {
   "cell_type": "code",
   "execution_count": 54,
   "id": "0776419c",
   "metadata": {},
   "outputs": [
    {
     "data": {
      "text/plain": [
       "array([0.00706874, 0.00686021, 0.0080447 , 0.00635795, 0.00636164,\n",
       "       0.00725033, 0.00593645, 0.0059    , 0.00595323, 0.0053048 ,\n",
       "       0.00555253, 0.00569594, 0.00496983, 0.00536795, 0.00536677,\n",
       "       0.0045517 , 0.00455025, 0.00455399, 0.00456321, 0.00424929,\n",
       "       0.0045756 , 0.00442205, 0.00438396, 0.00399415, 0.00401374,\n",
       "       0.00341965, 0.00431315, 0.0042723 , 0.00438096, 0.00755917,\n",
       "       0.00590468, 0.00507375, 0.0050091 , 0.00447074, 0.00653647,\n",
       "       0.00427154])"
      ]
     },
     "execution_count": 54,
     "metadata": {},
     "output_type": "execute_result"
    }
   ],
   "source": [
    "score_std"
   ]
  },
  {
   "cell_type": "code",
   "execution_count": 55,
   "id": "f5de41bd",
   "metadata": {},
   "outputs": [
    {
     "data": {
      "text/plain": [
       "{'selectkbest__k': 36}"
      ]
     },
     "execution_count": 55,
     "metadata": {},
     "output_type": "execute_result"
    }
   ],
   "source": [
    "#Outputting the optimal number of features to utilize in the linear regression model\n",
    "lr_grid_cv.best_params_"
   ]
  },
  {
   "cell_type": "markdown",
   "id": "e479ae15",
   "metadata": {},
   "source": [
    "<font size=\"3\">\n",
    "\n",
    "Let's create a chart to visualize the relationship between performance of the model (R-squared) vs # of features (k)"
   ]
  },
  {
   "cell_type": "code",
   "execution_count": 56,
   "id": "d4123050",
   "metadata": {},
   "outputs": [
    {
     "data": {
      "image/png": "[encoded data removed]",
      "text/plain": [
       "<Figure size 1000x500 with 1 Axes>"
      ]
     },
     "metadata": {},
     "output_type": "display_data"
    }
   ],
   "source": [
    "#Creating a visualization to showcase R-squared vs # of features (k) utilized in the model\n",
    "best_k = lr_grid_cv.best_params_['selectkbest__k']\n",
    "plt.subplots(figsize=(10, 5))\n",
    "plt.errorbar(cv_k, score_mean, yerr=score_std)\n",
    "plt.axvline(x=best_k, c='r', ls='--', alpha=.5)\n",
    "plt.xlabel('k')\n",
    "plt.ylabel('CV score (r-squared)')\n",
    "plt.title('Pipeline mean CV score (error bars +/- 1sd)');"
   ]
  },
  {
   "cell_type": "markdown",
   "id": "6c6d4bef",
   "metadata": {},
   "source": [
    "<font size=\"3\">\n",
    "\n",
    "The graph easily illustrates the tremendous marginal increase in model performance from 1 to 6 features. However, following 6 features, the model only marginally treads higher in performance up to the last feature. \n",
    "\n",
    "Although best_params outputs the optimal feature number as 36 (all of the features), a strong case can be made for utilizing only 25 features, since there is nearly an insignificant model performance increase between 25 to 36 features. \n",
    "\n",
    "Similarly, a case can also be made to utilize only 16 features, since the largest marginal increases in model performance ceases after 16.\n"
   ]
  },
  {
   "cell_type": "code",
   "execution_count": null,
   "id": "a02e1040",
   "metadata": {},
   "outputs": [],
   "source": []
  },
  {
   "cell_type": "code",
   "execution_count": 58,
   "id": "a1dea82c",
   "metadata": {},
   "outputs": [],
   "source": [
    "selected = lr_grid_cv.best_estimator_.named_steps.selectkbest.get_support()"
   ]
  },
  {
   "cell_type": "code",
   "execution_count": 59,
   "id": "0b93ae75",
   "metadata": {},
   "outputs": [
    {
     "data": {
      "text/plain": [
       "array([[ 2.98111615e+01,  8.86491349e+00, -3.53718710e-02,\n",
       "         2.22975239e+01, -1.19446673e+01, -4.31725967e+00,\n",
       "         2.12614500e+01,  1.19448330e+01,  1.56661940e+14,\n",
       "        -9.39910831e+13, -2.56888147e+14,  2.31782440e+14,\n",
       "         1.54292570e+12, -2.58677272e+12,  2.58677272e+12,\n",
       "        -1.54292570e+12,  1.12026874e+00,  7.28170491e+00,\n",
       "         1.61635285e+01,  3.02493747e+00,  2.01053267e+14,\n",
       "         1.16260019e+14,  2.10267955e+14, -1.35115969e+14,\n",
       "         3.42972235e+13, -6.71424186e+13, -1.24520853e+13,\n",
       "         8.91560436e+12,  3.42972235e+13, -6.71424186e+13,\n",
       "        -1.12944394e+14, -9.71872344e+13, -1.93336418e+14,\n",
       "        -1.69800652e+12,  3.81843938e+13, -1.26926392e+14]])"
      ]
     },
     "execution_count": 59,
     "metadata": {},
     "output_type": "execute_result"
    }
   ],
   "source": [
    "coefs = lr_grid_cv.best_estimator_.named_steps.linearregression.coef_\n",
    "coefs"
   ]
  },
  {
   "cell_type": "code",
   "execution_count": 60,
   "id": "e2b20e32",
   "metadata": {},
   "outputs": [],
   "source": [
    "#Note, I needed to create my own coefs2 variable to create the same value length as the index\n",
    "#I did so by deleting the extra brackets from the 'coefs' variable above\n",
    "coefs2 = [2.98111615e+01,  8.86491349e+00, -3.53718710e-02,\n",
    "         2.22975239e+01, -1.19446673e+01, -4.31725967e+00,\n",
    "         2.12614500e+01,  1.19448330e+01,  1.56661940e+14,\n",
    "        -9.39910831e+13, -2.56888147e+14,  2.31782440e+14,\n",
    "         1.54292570e+12, -2.58677272e+12,  2.58677272e+12,\n",
    "        -1.54292570e+12,  1.12026874e+00,  7.28170491e+00,\n",
    "         1.61635285e+01,  3.02493747e+00,  2.01053267e+14,\n",
    "         1.16260019e+14,  2.10267955e+14, -1.35115969e+14,\n",
    "         3.42972235e+13, -6.71424186e+13, -1.24520853e+13,\n",
    "         8.91560436e+12,  3.42972235e+13, -6.71424186e+13,\n",
    "        -1.12944394e+14, -9.71872344e+13, -1.93336418e+14,\n",
    "        -1.69800652e+12,  3.81843938e+13, -1.26926392e+14]"
   ]
  },
  {
   "cell_type": "code",
   "execution_count": 61,
   "id": "15d70224",
   "metadata": {},
   "outputs": [
    {
     "data": {
      "text/plain": [
       "Pop Density (ppl/km2)      -2.568881e+14\n",
       "Country_Hungary            -1.933364e+14\n",
       "city_lisbon                -1.351160e+14\n",
       "Country_Spain              -1.269264e+14\n",
       "Country_Germany            -1.129444e+14\n",
       "Country_Greece             -9.718723e+13\n",
       "Population                 -9.399108e+13\n",
       "city_paris                 -6.714242e+13\n",
       "Country_France             -6.714242e+13\n",
       "city_rome                  -1.245209e+13\n",
       "Room Type_Shared room      -2.586773e+12\n",
       "Country_Italy              -1.698007e+12\n",
       "Private Room_True          -1.542926e+12\n",
       "dist                       -1.194467e+01\n",
       "metro_dist                 -4.317260e+00\n",
       "guest satis rating         -3.537187e-02\n",
       "Superhost?_True             1.120269e+00\n",
       "Weekday/Weekend_weekends    3.024937e+00\n",
       "Multi Listing?_1            7.281705e+00\n",
       "cleanliness_rating          8.864913e+00\n",
       "Rest Index                  1.194483e+01\n",
       "Biz Listing?_1              1.616353e+01\n",
       "attr_index                  2.126145e+01\n",
       "bedrooms                    2.229752e+01\n",
       "Person Capacity             2.981116e+01\n",
       "Room Type_Private room      1.542926e+12\n",
       "Shared Room_True            2.586773e+12\n",
       "city_vienna                 8.915604e+12\n",
       "Country_England             3.429722e+13\n",
       "city_london                 3.429722e+13\n",
       "Country_Portugal            3.818439e+13\n",
       "city_berlin                 1.162600e+14\n",
       "GDP (B USD)                 1.566619e+14\n",
       "city_barcelona              2.010533e+14\n",
       "city_budapest               2.102680e+14\n",
       "GDP per capita              2.317824e+14\n",
       "dtype: float64"
      ]
     },
     "execution_count": 61,
     "metadata": {},
     "output_type": "execute_result"
    }
   ],
   "source": [
    "features = x_train.columns[selected]\n",
    "pd.Series(coefs2, index=features).sort_values(ascending=True)"
   ]
  },
  {
   "cell_type": "markdown",
   "id": "40ba58a7",
   "metadata": {},
   "source": [
    "These results don't match my previous OLS model results? Why are the coefficients irrationally large and small...?\n",
    "\n",
    "Sorry, but I could not resolve the issue of these coefficients"
   ]
  },
  {
   "cell_type": "code",
   "execution_count": null,
   "id": "9fd943e9",
   "metadata": {},
   "outputs": [],
   "source": []
  },
  {
   "cell_type": "code",
   "execution_count": null,
   "id": "0f273441",
   "metadata": {},
   "outputs": [],
   "source": []
  },
  {
   "cell_type": "markdown",
   "id": "bf9385e7",
   "metadata": {},
   "source": [
    "<font size=\"3\">\n",
    "\n",
    "Creating a Random Forest Model"
   ]
  },
  {
   "cell_type": "code",
   "execution_count": 62,
   "id": "6e8dccac",
   "metadata": {},
   "outputs": [],
   "source": [
    "RF_pipe = make_pipeline(\n",
    "    StandardScaler(),\n",
    "    RandomForestRegressor(random_state=47))"
   ]
  },
  {
   "cell_type": "code",
   "execution_count": 63,
   "id": "6277bcd6",
   "metadata": {},
   "outputs": [
    {
     "name": "stderr",
     "output_type": "stream",
     "text": [
      "C:\\Users\\Mark Lee\\anaconda3\\lib\\site-packages\\sklearn\\pipeline.py:394: DataConversionWarning: A column-vector y was passed when a 1d array was expected. Please change the shape of y to (n_samples,), for example using ravel().\n",
      "  self._final_estimator.fit(Xt, y, **fit_params_last_step)\n",
      "C:\\Users\\Mark Lee\\anaconda3\\lib\\site-packages\\sklearn\\pipeline.py:394: DataConversionWarning: A column-vector y was passed when a 1d array was expected. Please change the shape of y to (n_samples,), for example using ravel().\n",
      "  self._final_estimator.fit(Xt, y, **fit_params_last_step)\n",
      "C:\\Users\\Mark Lee\\anaconda3\\lib\\site-packages\\sklearn\\pipeline.py:394: DataConversionWarning: A column-vector y was passed when a 1d array was expected. Please change the shape of y to (n_samples,), for example using ravel().\n",
      "  self._final_estimator.fit(Xt, y, **fit_params_last_step)\n",
      "C:\\Users\\Mark Lee\\anaconda3\\lib\\site-packages\\sklearn\\pipeline.py:394: DataConversionWarning: A column-vector y was passed when a 1d array was expected. Please change the shape of y to (n_samples,), for example using ravel().\n",
      "  self._final_estimator.fit(Xt, y, **fit_params_last_step)\n",
      "C:\\Users\\Mark Lee\\anaconda3\\lib\\site-packages\\sklearn\\pipeline.py:394: DataConversionWarning: A column-vector y was passed when a 1d array was expected. Please change the shape of y to (n_samples,), for example using ravel().\n",
      "  self._final_estimator.fit(Xt, y, **fit_params_last_step)\n"
     ]
    }
   ],
   "source": [
    "rf_default_cv_results = cross_validate(RF_pipe, x_train, y_train, cv=5)"
   ]
  },
  {
   "cell_type": "code",
   "execution_count": 64,
   "id": "a5f5d188",
   "metadata": {},
   "outputs": [
    {
     "data": {
      "text/plain": [
       "array([0.78968218, 0.79695471, 0.77960815, 0.7794528 , 0.79290299])"
      ]
     },
     "execution_count": 64,
     "metadata": {},
     "output_type": "execute_result"
    }
   ],
   "source": [
    "rf_cv_scores = rf_default_cv_results['test_score']\n",
    "rf_cv_scores"
   ]
  },
  {
   "cell_type": "code",
   "execution_count": null,
   "id": "0918825b",
   "metadata": {},
   "outputs": [],
   "source": []
  },
  {
   "cell_type": "code",
   "execution_count": 65,
   "id": "a11c80ca",
   "metadata": {},
   "outputs": [
    {
     "data": {
      "text/plain": [
       "{'randomforestregressor__n_estimators': [10,\n",
       "  12,\n",
       "  16,\n",
       "  20,\n",
       "  26,\n",
       "  33,\n",
       "  42,\n",
       "  54,\n",
       "  69,\n",
       "  88,\n",
       "  112,\n",
       "  143,\n",
       "  183,\n",
       "  233,\n",
       "  297,\n",
       "  379,\n",
       "  483,\n",
       "  615,\n",
       "  784,\n",
       "  1000],\n",
       " 'standardscaler': [StandardScaler(), None]}"
      ]
     },
     "execution_count": 65,
     "metadata": {},
     "output_type": "execute_result"
    }
   ],
   "source": [
    "n_est = [int(n) for n in np.logspace(start=1, stop=3, num=20)]\n",
    "grid_params = {\n",
    "        'randomforestregressor__n_estimators': n_est,\n",
    "        'standardscaler': [StandardScaler(), None],\n",
    "}\n",
    "grid_params"
   ]
  },
  {
   "cell_type": "code",
   "execution_count": 66,
   "id": "120d1c28",
   "metadata": {},
   "outputs": [],
   "source": [
    "rf_grid_cv = GridSearchCV(RF_pipe, param_grid=grid_params, cv=5, n_jobs=-1)"
   ]
  },
  {
   "cell_type": "code",
   "execution_count": 67,
   "id": "8a65922c",
   "metadata": {},
   "outputs": [
    {
     "name": "stderr",
     "output_type": "stream",
     "text": [
      "C:\\Users\\Mark Lee\\anaconda3\\lib\\site-packages\\sklearn\\pipeline.py:394: DataConversionWarning: A column-vector y was passed when a 1d array was expected. Please change the shape of y to (n_samples,), for example using ravel().\n",
      "  self._final_estimator.fit(Xt, y, **fit_params_last_step)\n"
     ]
    },
    {
     "data": {
      "text/plain": [
       "GridSearchCV(cv=5,\n",
       "             estimator=Pipeline(steps=[('standardscaler', StandardScaler()),\n",
       "                                       ('randomforestregressor',\n",
       "                                        RandomForestRegressor(random_state=47))]),\n",
       "             n_jobs=-1,\n",
       "             param_grid={'randomforestregressor__n_estimators': [10, 12, 16, 20,\n",
       "                                                                 26, 33, 42, 54,\n",
       "                                                                 69, 88, 112,\n",
       "                                                                 143, 183, 233,\n",
       "                                                                 297, 379, 483,\n",
       "                                                                 615, 784,\n",
       "                                                                 1000],\n",
       "                         'standardscaler': [StandardScaler(), None]})"
      ]
     },
     "execution_count": 67,
     "metadata": {},
     "output_type": "execute_result"
    }
   ],
   "source": [
    "rf_grid_cv.fit(x_train, y_train)        "
   ]
  },
  {
   "cell_type": "code",
   "execution_count": 68,
   "id": "5f4c1f4d",
   "metadata": {},
   "outputs": [
    {
     "data": {
      "text/plain": [
       "{'randomforestregressor__n_estimators': 1000,\n",
       " 'standardscaler': StandardScaler()}"
      ]
     },
     "execution_count": 68,
     "metadata": {},
     "output_type": "execute_result"
    }
   ],
   "source": [
    "rf_grid_cv.best_params_"
   ]
  },
  {
   "cell_type": "code",
   "execution_count": 70,
   "id": "f8e4a80a",
   "metadata": {},
   "outputs": [
    {
     "name": "stderr",
     "output_type": "stream",
     "text": [
      "C:\\Users\\Mark Lee\\anaconda3\\lib\\site-packages\\sklearn\\pipeline.py:394: DataConversionWarning: A column-vector y was passed when a 1d array was expected. Please change the shape of y to (n_samples,), for example using ravel().\n",
      "  self._final_estimator.fit(Xt, y, **fit_params_last_step)\n",
      "C:\\Users\\Mark Lee\\anaconda3\\lib\\site-packages\\sklearn\\pipeline.py:394: DataConversionWarning: A column-vector y was passed when a 1d array was expected. Please change the shape of y to (n_samples,), for example using ravel().\n",
      "  self._final_estimator.fit(Xt, y, **fit_params_last_step)\n",
      "C:\\Users\\Mark Lee\\anaconda3\\lib\\site-packages\\sklearn\\pipeline.py:394: DataConversionWarning: A column-vector y was passed when a 1d array was expected. Please change the shape of y to (n_samples,), for example using ravel().\n",
      "  self._final_estimator.fit(Xt, y, **fit_params_last_step)\n",
      "C:\\Users\\Mark Lee\\anaconda3\\lib\\site-packages\\sklearn\\pipeline.py:394: DataConversionWarning: A column-vector y was passed when a 1d array was expected. Please change the shape of y to (n_samples,), for example using ravel().\n",
      "  self._final_estimator.fit(Xt, y, **fit_params_last_step)\n",
      "C:\\Users\\Mark Lee\\anaconda3\\lib\\site-packages\\sklearn\\pipeline.py:394: DataConversionWarning: A column-vector y was passed when a 1d array was expected. Please change the shape of y to (n_samples,), for example using ravel().\n",
      "  self._final_estimator.fit(Xt, y, **fit_params_last_step)\n"
     ]
    },
    {
     "data": {
      "text/plain": [
       "array([0.79263712, 0.79991216, 0.78189394, 0.78158688, 0.79654354])"
      ]
     },
     "execution_count": 70,
     "metadata": {},
     "output_type": "execute_result"
    }
   ],
   "source": [
    "#Computing cross-validated r-squared results\n",
    "rf_best_cv_results = cross_validate(rf_grid_cv.best_estimator_, x_train, y_train, cv=5)\n",
    "rf_best_scores = rf_best_cv_results['test_score']\n",
    "rf_best_scores"
   ]
  },
  {
   "cell_type": "markdown",
   "id": "b0e23262",
   "metadata": {},
   "source": [
    "<font size=\"3\">\n",
    "    \n",
    "Despite the poorly constructed training dataset, the Random Forest model was able to produce a high r-squared output. \n",
    "    \n",
    "Let's determine the underlying logic behind the regression mechanism by viewing feature importance"
   ]
  },
  {
   "cell_type": "code",
   "execution_count": 71,
   "id": "1ba5ccd9",
   "metadata": {},
   "outputs": [
    {
     "data": {
      "image/png": "[encoded data removed]",
      "text/plain": [
       "<Figure size 1000x500 with 1 Axes>"
      ]
     },
     "metadata": {},
     "output_type": "display_data"
    }
   ],
   "source": [
    "plt.subplots(figsize=(10, 5))\n",
    "imps = rf_grid_cv.best_estimator_.named_steps.randomforestregressor.feature_importances_\n",
    "rf_feat_imps = pd.Series(imps, index=x_train.columns).sort_values(ascending=False)\n",
    "rf_feat_imps.plot(kind='bar')\n",
    "plt.xlabel('features')\n",
    "plt.ylabel('importance')\n",
    "plt.title('Best random forest regressor feature importances');"
   ]
  },
  {
   "cell_type": "markdown",
   "id": "480efa81",
   "metadata": {},
   "source": [
    "\n"
   ]
  },
  {
   "cell_type": "code",
   "execution_count": null,
   "id": "d632c910",
   "metadata": {},
   "outputs": [],
   "source": []
  },
  {
   "cell_type": "markdown",
   "id": "2573b1eb",
   "metadata": {},
   "source": [
    "<font size=\"3\">\n",
    "Lets compare the performance metrics of the linear model vs the randomforest model"
   ]
  },
  {
   "cell_type": "code",
   "execution_count": 73,
   "id": "28066cd6",
   "metadata": {},
   "outputs": [],
   "source": [
    "lr_neg_mae = cross_validate(lr_grid_cv.best_estimator_, x_train, y_train, \n",
    "                            scoring='neg_mean_absolute_error', cv=5, n_jobs=-1)"
   ]
  },
  {
   "cell_type": "code",
   "execution_count": 74,
   "id": "a5158578",
   "metadata": {},
   "outputs": [
    {
     "data": {
      "text/plain": [
       "(67.6190974689903, 0.5570714393409927)"
      ]
     },
     "execution_count": 74,
     "metadata": {},
     "output_type": "execute_result"
    }
   ],
   "source": [
    "lr_mae_mean = np.mean(-1 * lr_neg_mae['test_score'])\n",
    "lr_mae_std = np.std(-1 * lr_neg_mae['test_score'])\n",
    "lr_mae_mean, lr_mae_std"
   ]
  },
  {
   "cell_type": "code",
   "execution_count": 75,
   "id": "7dfdc2e9",
   "metadata": {},
   "outputs": [
    {
     "data": {
      "text/plain": [
       "69.04017008755508"
      ]
     },
     "execution_count": 75,
     "metadata": {},
     "output_type": "execute_result"
    }
   ],
   "source": [
    "#Calculating MAE of the linear model with the test set\n",
    "#This MAE corresponds with the previously computed MAE of $69\n",
    "mean_absolute_error(y_test, lr_grid_cv.best_estimator_.predict(x_test))"
   ]
  },
  {
   "cell_type": "markdown",
   "id": "1b994a1a",
   "metadata": {},
   "source": [
    "<font size=\"3\">\n",
    "\n",
    "The linear model's MAE equates to around $69"
   ]
  },
  {
   "cell_type": "markdown",
   "id": "9eb02b98",
   "metadata": {},
   "source": [
    "<font size =\"3\">\n",
    "\n",
    "Let's calculate these same metrics for the Random Forest Model"
   ]
  },
  {
   "cell_type": "code",
   "execution_count": 76,
   "id": "7b07b8a2",
   "metadata": {},
   "outputs": [],
   "source": [
    "rf_neg_mae = cross_validate(rf_grid_cv.best_estimator_, x_train, y_train, \n",
    "                            scoring='neg_mean_absolute_error', cv=5, n_jobs=-1)"
   ]
  },
  {
   "cell_type": "code",
   "execution_count": 77,
   "id": "d7b55550",
   "metadata": {},
   "outputs": [
    {
     "data": {
      "text/plain": [
       "(41.07484802414621, 0.5157821604482974)"
      ]
     },
     "execution_count": 77,
     "metadata": {},
     "output_type": "execute_result"
    }
   ],
   "source": [
    "rf_mae_mean = np.mean(-1 * rf_neg_mae['test_score'])\n",
    "rf_mae_std = np.std(-1 * rf_neg_mae['test_score'])\n",
    "rf_mae_mean, rf_mae_std"
   ]
  },
  {
   "cell_type": "code",
   "execution_count": 78,
   "id": "be37c2b0",
   "metadata": {},
   "outputs": [
    {
     "data": {
      "text/plain": [
       "37.3714854366154"
      ]
     },
     "execution_count": 78,
     "metadata": {},
     "output_type": "execute_result"
    }
   ],
   "source": [
    "mean_absolute_error(y_test, rf_grid_cv.best_estimator_.predict(x_test))"
   ]
  },
  {
   "cell_type": "markdown",
   "id": "e52596ef",
   "metadata": {},
   "source": [
    "<font size=\"3\">\n",
    "\n",
    "Overall analysis:"
   ]
  },
  {
   "cell_type": "markdown",
   "id": "70b1738c",
   "metadata": {},
   "source": [
    "\n",
    "\n",
    "Most conspiculously: Random Forest regression computes feature importance that is contradictory to the linear regression model.\n",
    "\n",
    "Of note:\n",
    "Let's remember the training dataset contained an aggregate of all cities as respective features for each datapoint (as previously stated and cautioned). Thus, the random forest aggregator most likely (and correctly) predicted that each respective city - especially respective cities' economic prosperity - are main components towards AirBNB prices; More simply, higher city GDP equates to higher AirBnb room prices, for obviously hosts can charge higher room prices. This relationship is reflected in Random Forest's feature importance, where \"Pop Density\" - which roughly correlates to cities' GDP in this training set - and \"GDP\" are both important features. \n",
    "\n",
    "Notable contradictions between Linear Regression vs the Random Forest models are the features \"Room Type_Private\" and \"Biz Listing(?).\" In fact, they represent opposite significance in each respective model. \n",
    "\n",
    "Overall:\n",
    "Again, (although I'm beating a dead drum...) let's remember that the training dataset was poorly constructed for respective cities were feature-engineered into the dataset as variables of the host's AirBnb room, whereas it's more logical to compute regression models of AirBnb room features separately for each city. \n",
    "\n",
    "However, it's interesting that Random Forest regression is able to detect the significance of city on the price of the AirBnb rooms, albeit indirectly via the feature-engineered GDP variable, and with remarkable accuracy (r-squared ~.79). Given the high r-squared metric, coupled with lower MAE ($37 vs $69). These metrics suggest a tremendous performance boost by utilzing the Random Forest model.\n",
    "\n",
    "If forced to use these regression models as is (without levity to re-construct the training dataset features), the Random Forest model is the obvious choice. Airbnb hosts can benefit from this analysis by grasping the importance of these features, in order of significance:\n",
    "1. Attr - Index (room proximity to attractions)\n",
    "2. Private rooms are significantly valued\n",
    "3. Rest-Index (proxmity to valuable restaurants)\n",
    "4. Person Capacity - # of person the entire room/apt/house can hold\n",
    "5. Dist (distance from city center), which correlates with distance from attraction\n",
    "6. Bedrooms\n",
    "7. Distance from Metro\n",
    "8. Guest - Satisfaction\n",
    "\n",
    "Admittedly, these modeled insights, for the most part, simply follow common sense reasoning, but this regression model certifies conventional wisdom towards determinants of Airbnb prices. \n"
   ]
  }
 ],
 "metadata": {
  "kernelspec": {
   "display_name": "Python 3 (ipykernel)",
   "language": "python",
   "name": "python3"
  },
  "language_info": {
   "codemirror_mode": {
    "name": "ipython",
    "version": 3
   },
   "file_extension": ".py",
   "mimetype": "text/x-python",
   "name": "python",
   "nbconvert_exporter": "python",
   "pygments_lexer": "ipython3",
   "version": "3.9.13"
  }
 },
 "nbformat": 4,
 "nbformat_minor": 5
}
